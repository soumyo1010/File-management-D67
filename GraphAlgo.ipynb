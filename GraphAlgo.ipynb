{
  "nbformat": 4,
  "nbformat_minor": 0,
  "metadata": {
    "colab": {
      "provenance": [],
      "authorship_tag": "ABX9TyMVppNsCTYiJtFvon+dzzhP",
      "include_colab_link": true
    },
    "kernelspec": {
      "name": "python3",
      "display_name": "Python 3"
    },
    "language_info": {
      "name": "python"
    }
  },
  "cells": [
    {
      "cell_type": "markdown",
      "metadata": {
        "id": "view-in-github",
        "colab_type": "text"
      },
      "source": [
        "<a href=\"https://colab.research.google.com/github/soumyo1010/File-management-D67/blob/main/GraphAlgo.ipynb\" target=\"_parent\"><img src=\"https://colab.research.google.com/assets/colab-badge.svg\" alt=\"Open In Colab\"/></a>"
      ]
    },
    {
      "cell_type": "code",
      "execution_count": 1,
      "metadata": {
        "colab": {
          "base_uri": "https://localhost:8080/"
        },
        "id": "uPZBDu_k5WNJ",
        "outputId": "6fbac86b-72ee-4a2e-c7b3-6f692a9ce6cd"
      },
      "outputs": [
        {
          "output_type": "stream",
          "name": "stdout",
          "text": [
            "Requirement already satisfied: matplotlib in /usr/local/lib/python3.10/dist-packages (3.7.1)\n",
            "Requirement already satisfied: contourpy>=1.0.1 in /usr/local/lib/python3.10/dist-packages (from matplotlib) (1.2.1)\n",
            "Requirement already satisfied: cycler>=0.10 in /usr/local/lib/python3.10/dist-packages (from matplotlib) (0.12.1)\n",
            "Requirement already satisfied: fonttools>=4.22.0 in /usr/local/lib/python3.10/dist-packages (from matplotlib) (4.53.1)\n",
            "Requirement already satisfied: kiwisolver>=1.0.1 in /usr/local/lib/python3.10/dist-packages (from matplotlib) (1.4.5)\n",
            "Requirement already satisfied: numpy>=1.20 in /usr/local/lib/python3.10/dist-packages (from matplotlib) (1.26.4)\n",
            "Requirement already satisfied: packaging>=20.0 in /usr/local/lib/python3.10/dist-packages (from matplotlib) (24.1)\n",
            "Requirement already satisfied: pillow>=6.2.0 in /usr/local/lib/python3.10/dist-packages (from matplotlib) (9.4.0)\n",
            "Requirement already satisfied: pyparsing>=2.3.1 in /usr/local/lib/python3.10/dist-packages (from matplotlib) (3.1.2)\n",
            "Requirement already satisfied: python-dateutil>=2.7 in /usr/local/lib/python3.10/dist-packages (from matplotlib) (2.8.2)\n",
            "Requirement already satisfied: six>=1.5 in /usr/local/lib/python3.10/dist-packages (from python-dateutil>=2.7->matplotlib) (1.16.0)\n"
          ]
        }
      ],
      "source": [
        "!pip install matplotlib\n"
      ]
    },
    {
      "cell_type": "code",
      "source": [
        "!pip install networkx matplotlib"
      ],
      "metadata": {
        "colab": {
          "base_uri": "https://localhost:8080/"
        },
        "id": "VqOchaXG6BIv",
        "outputId": "cdc434a5-d22f-4aa9-b32f-67b4e847a484"
      },
      "execution_count": 2,
      "outputs": [
        {
          "output_type": "stream",
          "name": "stdout",
          "text": [
            "Requirement already satisfied: networkx in /usr/local/lib/python3.10/dist-packages (3.3)\n",
            "Requirement already satisfied: matplotlib in /usr/local/lib/python3.10/dist-packages (3.7.1)\n",
            "Requirement already satisfied: contourpy>=1.0.1 in /usr/local/lib/python3.10/dist-packages (from matplotlib) (1.2.1)\n",
            "Requirement already satisfied: cycler>=0.10 in /usr/local/lib/python3.10/dist-packages (from matplotlib) (0.12.1)\n",
            "Requirement already satisfied: fonttools>=4.22.0 in /usr/local/lib/python3.10/dist-packages (from matplotlib) (4.53.1)\n",
            "Requirement already satisfied: kiwisolver>=1.0.1 in /usr/local/lib/python3.10/dist-packages (from matplotlib) (1.4.5)\n",
            "Requirement already satisfied: numpy>=1.20 in /usr/local/lib/python3.10/dist-packages (from matplotlib) (1.26.4)\n",
            "Requirement already satisfied: packaging>=20.0 in /usr/local/lib/python3.10/dist-packages (from matplotlib) (24.1)\n",
            "Requirement already satisfied: pillow>=6.2.0 in /usr/local/lib/python3.10/dist-packages (from matplotlib) (9.4.0)\n",
            "Requirement already satisfied: pyparsing>=2.3.1 in /usr/local/lib/python3.10/dist-packages (from matplotlib) (3.1.2)\n",
            "Requirement already satisfied: python-dateutil>=2.7 in /usr/local/lib/python3.10/dist-packages (from matplotlib) (2.8.2)\n",
            "Requirement already satisfied: six>=1.5 in /usr/local/lib/python3.10/dist-packages (from python-dateutil>=2.7->matplotlib) (1.16.0)\n"
          ]
        }
      ]
    },
    {
      "cell_type": "code",
      "source": [
        "!pip install numpy"
      ],
      "metadata": {
        "colab": {
          "base_uri": "https://localhost:8080/"
        },
        "id": "-zTdz5gM6SpX",
        "outputId": "de0cd293-49f5-4c77-d450-df8fb95e7ef2"
      },
      "execution_count": 3,
      "outputs": [
        {
          "output_type": "stream",
          "name": "stdout",
          "text": [
            "Requirement already satisfied: numpy in /usr/local/lib/python3.10/dist-packages (1.26.4)\n"
          ]
        }
      ]
    },
    {
      "cell_type": "code",
      "source": [
        "!pip install pandas"
      ],
      "metadata": {
        "colab": {
          "base_uri": "https://localhost:8080/"
        },
        "id": "gF0xBSXA6eeu",
        "outputId": "e0425607-3e45-48e5-9343-d11f9aea849c"
      },
      "execution_count": 4,
      "outputs": [
        {
          "output_type": "stream",
          "name": "stdout",
          "text": [
            "Requirement already satisfied: pandas in /usr/local/lib/python3.10/dist-packages (2.1.4)\n",
            "Requirement already satisfied: numpy<2,>=1.22.4 in /usr/local/lib/python3.10/dist-packages (from pandas) (1.26.4)\n",
            "Requirement already satisfied: python-dateutil>=2.8.2 in /usr/local/lib/python3.10/dist-packages (from pandas) (2.8.2)\n",
            "Requirement already satisfied: pytz>=2020.1 in /usr/local/lib/python3.10/dist-packages (from pandas) (2024.1)\n",
            "Requirement already satisfied: tzdata>=2022.1 in /usr/local/lib/python3.10/dist-packages (from pandas) (2024.1)\n",
            "Requirement already satisfied: six>=1.5 in /usr/local/lib/python3.10/dist-packages (from python-dateutil>=2.8.2->pandas) (1.16.0)\n"
          ]
        }
      ]
    },
    {
      "cell_type": "code",
      "source": [
        "import networkx as nx\n",
        "G=nx.read_edgelist('facebook_combined.txt')"
      ],
      "metadata": {
        "id": "v8m5LyZb6jfj"
      },
      "execution_count": 5,
      "outputs": []
    },
    {
      "cell_type": "code",
      "source": [
        "from collections import deque\n",
        "visited=[]\n",
        "def dfs(s,d):\n",
        "    visited.clear()\n",
        "    stack=deque()\n",
        "    stack.append(s)\n",
        "    visited.append(s)\n",
        "    while(stack):\n",
        "        a=stack.pop()\n",
        "        if(a==d):\n",
        "            break\n",
        "        L=list(G.adj[a])\n",
        "        for i in L:\n",
        "            if(i not in visited):\n",
        "                stack.append(i)\n",
        "                visited.append(i)\n",
        "    print(\"Nodes traversed for finding a particular node =\",len(visited))\n",
        "    return"
      ],
      "metadata": {
        "id": "UcWzaRhj-I7J"
      },
      "execution_count": 6,
      "outputs": []
    },
    {
      "cell_type": "code",
      "source": [
        "from collections import deque\n",
        "visited=[]\n",
        "path=[]\n",
        "pred={}\n",
        "def bfs(s,d):\n",
        "    visited.clear()\n",
        "    path.clear()\n",
        "    pred.clear()\n",
        "    queue=deque()\n",
        "    queue.append(s)\n",
        "    visited.append(s)\n",
        "    pred[s]=None\n",
        "    while(queue):\n",
        "        a=queue.popleft()\n",
        "        #print(a,end=\"->\")\n",
        "        if(a==d):\n",
        "            while a is not None:\n",
        "                path.append(a)\n",
        "                a = pred[a]\n",
        "            path.reverse()\n",
        "            break\n",
        "        L=list(G.adj[a])\n",
        "        for i in L:\n",
        "            if(i not in visited):\n",
        "                queue.append(i)\n",
        "                visited.append(i)\n",
        "                pred[i]=a\n",
        "    print(\"Length of shortest path =\",len(path),\"\\nNodes traversed for finding shortest path =\",len(visited))\n",
        "    return"
      ],
      "metadata": {
        "id": "FLyNIqtC-RZ4"
      },
      "execution_count": 7,
      "outputs": []
    },
    {
      "cell_type": "code",
      "source": [
        "import matplotlib.pyplot as plt"
      ],
      "metadata": {
        "id": "J9aL519DG5-B"
      },
      "execution_count": 15,
      "outputs": []
    },
    {
      "cell_type": "code",
      "source": [
        "def draw_graph():\n",
        "  nx.draw(G,with_labels=True,font_weight='bold')\n",
        "  plt.show()\n",
        "\n",
        "draw_graph()"
      ],
      "metadata": {
        "colab": {
          "base_uri": "https://localhost:8080/",
          "height": 516
        },
        "id": "5GLgWK48HMBR",
        "outputId": "491f8fde-6a76-4955-e716-75abed23a291"
      },
      "execution_count": 28,
      "outputs": [
        {
          "output_type": "display_data",
          "data": {
            "text/plain": [
              "<Figure size 640x480 with 1 Axes>"
            ],
            "image/png": "[encoded data removed]"
          },
          "metadata": {}
        }
      ]
    },
    {
      "cell_type": "code",
      "source": [
        "import time as t\n",
        "def path_finder_bfs():\n",
        "    src=input(\"Enter source node: \")\n",
        "    dest=input(\"Enter destination node:\")\n",
        "    start=t.time()\n",
        "    bfs(src,dest)\n",
        "    end=t.time()\n",
        "    print(\"Time taken to find shortest path =\",end-start)\n",
        "path_finder_bfs()"
      ],
      "metadata": {
        "colab": {
          "base_uri": "https://localhost:8080/"
        },
        "id": "svSyZ1ATHOFH",
        "outputId": "e1a726aa-7784-4383-c46a-577510ac34e6"
      },
      "execution_count": 32,
      "outputs": [
        {
          "output_type": "stream",
          "name": "stdout",
          "text": [
            "Enter source node: 34\n",
            "Enter destination node:65\n",
            "Length of shortest path = 3 \n",
            "Nodes traversed for finding shortest path = 722\n",
            "Time taken to find shortest path = 0.022226810455322266\n"
          ]
        }
      ]
    },
    {
      "cell_type": "code",
      "source": [
        "import time as t\n",
        "def path_finder_dfs():\n",
        "    src=input(\"Enter source node: \")\n",
        "    dest=input(\"Enter destination node:\")\n",
        "    start=t.time()\n",
        "    dfs(src,dest)\n",
        "    end=t.time()\n",
        "    print(\"Time taken to find shortest path =\",end-start)\n",
        "path_finder_dfs()"
      ],
      "metadata": {
        "colab": {
          "base_uri": "https://localhost:8080/"
        },
        "id": "02CFk3ooH3n1",
        "outputId": "5dc8da5f-ce2b-4bd8-da15-7d2aefc92c2c"
      },
      "execution_count": 33,
      "outputs": [
        {
          "output_type": "stream",
          "name": "stdout",
          "text": [
            "Enter source node: 34\n",
            "Enter destination node:65\n",
            "Nodes traversed for finding a particular node = 3522\n",
            "Time taken to find shortest path = 1.806884765625\n"
          ]
        }
      ]
    },
    {
      "cell_type": "code",
      "source": [
        "while True:\n",
        "    print(\"1.Visualize graph\\n2.Find shortest path with BFS\\n3.Explore all paths with DFS\\n4.Exit\")\n",
        "    ch=int(input(\"Enter your choice: \"))\n",
        "    if(ch==1):\n",
        "        draw_graph()\n",
        "        print()\n",
        "    elif(ch==2):\n",
        "        path_finder_bfs()\n",
        "        print()\n",
        "    elif(ch==3):\n",
        "        path_finder_dfs()\n",
        "        print()\n",
        "    elif(ch==4):\n",
        "        print(\"Exiting......\")\n",
        "        print()\n",
        "        break\n",
        "    else:\n",
        "        print(\"Invalid choice\")"
      ],
      "metadata": {
        "colab": {
          "base_uri": "https://localhost:8080/"
        },
        "id": "SB9Ml3F9MURP",
        "outputId": "bb8d15b5-ef71-4d91-c9b5-af89bbbc3281"
      },
      "execution_count": 31,
      "outputs": [
        {
          "output_type": "stream",
          "name": "stdout",
          "text": [
            "1.Visualize graph\n",
            "2.Find shortest path with BFS\n",
            "3.Explore all paths with DFS\n",
            "4.Exit\n",
            "Enter your choice: 4\n",
            "Exiting......\n",
            "\n"
          ]
        }
      ]
    }
  ]
}